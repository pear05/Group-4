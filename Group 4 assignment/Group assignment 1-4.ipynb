{
 "cells": [
  {
   "cell_type": "code",
   "execution_count": 4,
   "id": "3eca05b2",
   "metadata": {},
   "outputs": [
    {
     "name": "stdout",
     "output_type": "stream",
     "text": [
      "Madaraka Estate\n"
     ]
    },
    {
     "data": {
      "image/png": "[encoded data removed]",
      "text/plain": [
       "<Figure size 432x288 with 1 Axes>"
      ]
     },
     "metadata": {},
     "output_type": "display_data"
    }
   ],
   "source": [
    "import networkx as nx\n",
    "import matplotlib.pyplot as plt\n",
    "G = nx.Graph()\n",
    "\n",
    "#this are the  places\n",
    "\n",
    "G.add_edges_from([(\"sport_complex\" ,\"siwaka\") , (\"siwaka\" ,\"Ph.1A\") , (\"siwaka\", \"Ph.1B\") , (\"Ph.1A\" ,\"Mada\"), ( \"Ph.1A\", \"Ph.1B\"), (\"Ph.1B\", \"STC\"), ( \"Ph.1B\", \"Phase 2\"), ( \"STC\",\"Phase 2\"), ( \"STC\", \"Parking Lot\"), (\"Phase 2\" ,\"Phase 3\"), ( \"Phase 2\", \"J1\"), ( \"J1\", \"Mada\"), (\"Mada\", \"Parking Lot\"), ( \"Phase 3\", \"Parking Lot\") ])\n",
    "\n",
    "pos = { \"sport_complex\": (10, 90), \"siwaka\": (25, 90), \"Ph.1A\": (35, 90), \"Ph.1B\": (35, 80), \"STC\": (35, 70), \"Phase 2\": (45, 80), \"J1\": (55, 80), \"Mada\": (65, 80), \"Phase 3\": (45, 70), \"Parking Lot\": (45, 50) } \n",
    "\n",
    "nx.draw_networkx(G, pos=pos)\n",
    "\n",
    "print(\"Madaraka Estate\")\n",
    "\n",
    "plt.show()"
   ]
  },
  {
   "cell_type": "code",
   "execution_count": 2,
   "id": "0ad40b8b",
   "metadata": {},
   "outputs": [
    {
     "name": "stdout",
     "output_type": "stream",
     "text": [
      "\u001b[32m 0 \u001b[m \u001b[32m 1 \u001b[m \u001b[32m 3 \u001b[m \u001b[32m 5 \u001b[m \u001b[32m 6 \u001b[m \u001b[32m 7 \u001b[m \n"
     ]
    }
   ],
   "source": [
    "from queue import PriorityQueue\n",
    "v = 14\n",
    "graph = [[] for i in range(v)]\n",
    "\n",
    "# Function For Implementing Best First Search\n",
    "# Gives output path having lowest cost\n",
    "\n",
    "\n",
    "def best_first_search(actual_Src, target, n):\n",
    "    visited = [False] * n\n",
    "    pq = PriorityQueue()\n",
    "    pq.put((0, actual_Src))\n",
    "    visited[actual_Src] = True\n",
    "    \n",
    "    while pq.empty() == False:\n",
    "        u = pq.get()[1]\n",
    "        # Displaying the path having lowest cost\n",
    "        green='\\033[32m'\n",
    "        reset= '\\033[m' \n",
    "        print(green,u,reset, end=\" \")\n",
    "        if u == target:\n",
    "            break\n",
    "\n",
    "        for v, c in graph[u]:\n",
    "            if visited[v] == False:\n",
    "                visited[v] = True\n",
    "                pq.put((c, v))\n",
    "    print()\n",
    "\n",
    "# Function for adding edges to graph\n",
    "\n",
    "\n",
    "def addedge(x, y, cost):\n",
    "    graph[x].append((y, cost))\n",
    "    graph[y].append((x, cost))\n",
    "\n",
    "\n",
    "# The nodes shown in the graph(by alphabets) are\n",
    "# implemented using integers addedge(x,y,cost);\n",
    "addedge(0, 0,730)\n",
    "addedge(0, 1,405)\n",
    "addedge(1, 2, 380)\n",
    "addedge(2, 3,280)\n",
    "addedge(1, 3, 280)\n",
    "addedge(3, 4, 213)\n",
    "addedge(4, 5, 210)\n",
    "addedge(3, 5, 210)\n",
    "addedge(5, 6, 160)\n",
    "addedge(6, 7, 0)\n",
    "addedge(7, 8, 630)\n",
    "addedge(8, 2, 380)\n",
    "addedge(8, 9, 500)\n",
    "addedge(9, 5, 210)\n",
    "\n",
    "\n",
    "source = 0\n",
    "target = 7\n",
    "best_first_search(source, target, v)"
   ]
  },
  {
   "cell_type": "code",
   "execution_count": 3,
   "id": "43f1a149",
   "metadata": {},
   "outputs": [
    {
     "name": "stdout",
     "output_type": "stream",
     "text": [
      "\u001b[33mUniform Cost Search :\u001b[31m [('Sports Complex', 0), ('Siwaka', 450), ('Ph.1A', 10), ('Ph.1B', 100), ('STC', 50), ('Parking Lot', 250)] Cost:  860\n"
     ]
    }
   ],
   "source": [
    "from colorama import Fore\n",
    "\n",
    "graph_1 ={\n",
    "    'Sports Complex':[('Siwaka',450)],\n",
    "    'Siwaka':[('Ph.1A',10),('Ph.1B',230)],\n",
    "    'Ph.1A':[('Ph.1B',100),('Mada',850)],\n",
    "    'Ph.1B':[('STC',50),('Phase 2',112)],\n",
    "    'STC':[('Phase 2',50),('Parking Lot',250)],\n",
    "    'Phase 2':[('J1',600),('Phase 3',500)],\n",
    "    'J1':[('Mada',200)],\n",
    "    'Phase 3':[('Parking Lot',350)],\n",
    "    'Mada':[('Parking Lot',700)]\n",
    "}\n",
    "\n",
    "def path_cost(path):\n",
    "    total_cost=0\n",
    "    for(node,cost) in path:\n",
    "        total_cost += cost\n",
    "    return total_cost, path[-1][0]\n",
    "\n",
    "\n",
    "def ucs(graph_1,start,goal):\n",
    "    visited = []\n",
    "    queue = [[(start,0)]]\n",
    "    while queue:\n",
    "        queue.sort(key=path_cost)\n",
    "        path = queue.pop(0)\n",
    "        node = path[-1][0]\n",
    "        if node in visited:\n",
    "            continue\n",
    "        visited.append(node)\n",
    "        if node == goal:\n",
    "            return path\n",
    "        else:\n",
    "            adjacent_nodes=graph_1.get(node,[])\n",
    "            for(node2,cost) in adjacent_nodes:\n",
    "                new_path = path.copy()\n",
    "                new_path.append((node2,cost))\n",
    "                queue.append(new_path)\n",
    "                \n",
    "solution = ucs(graph_1,'Sports Complex','Parking Lot')\n",
    "print(Fore.YELLOW+'Uniform Cost Search :'+Fore.RED, solution , 'Cost: ', path_cost(solution)[0])"
   ]
  }
 ],
 "metadata": {
  "kernelspec": {
   "display_name": "Python 3 (ipykernel)",
   "language": "python",
   "name": "python3"
  },
  "language_info": {
   "codemirror_mode": {
    "name": "ipython",
    "version": 3
   },
   "file_extension": ".py",
   "mimetype": "text/x-python",
   "name": "python",
   "nbconvert_exporter": "python",
   "pygments_lexer": "ipython3",
   "version": "3.9.12"
  }
 },
 "nbformat": 4,
 "nbformat_minor": 5
}
